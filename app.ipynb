{
 "cells": [
  {
   "cell_type": "code",
   "execution_count": 38,
   "metadata": {},
   "outputs": [
    {
     "data": {
      "application/vnd.jupyter.widget-view+json": {
       "model_id": "5262e1ce60f748dbb9666514e5abea6e",
       "version_major": 2,
       "version_minor": 0
      },
      "text/plain": [
       "interactive(children=(Dropdown(description='obj', options=('bunny', 'chinese_dragon', 'homer'), value='bunny')…"
      ]
     },
     "metadata": {},
     "output_type": "display_data"
    },
    {
     "data": {
      "text/plain": [
       "<function __main__.show_image(obj, r=2.0, phi=0, theta=90, f=35, res_x=1024, res_y=1024, sensor_x=36)>"
      ]
     },
     "execution_count": 38,
     "metadata": {},
     "output_type": "execute_result"
    }
   ],
   "source": [
    "import os\n",
    "import numpy as np\n",
    "import matplotlib.pyplot as plt\n",
    "from ipywidgets import interact\n",
    "\n",
    "def show_image(obj, r=2.0, phi=0, theta=90, f=35, res_x=1024, res_y=1024, sensor_x=36):\n",
    "    \n",
    "    file = open(\"scene2\", \"w\")\n",
    "    file.write(f\"#mesh r phi theta f res_x res_y sensor_x\\n\")\n",
    "    file.write(f\"{obj} {r} {phi} {theta} {f} {res_x} {res_y} {sensor_x}\")\n",
    "    file.close()\n",
    "    \n",
    "    os.system(\"./rasterize\")\n",
    "\n",
    "    img = plt.imread(f\"output/{obj}.jpg\")\n",
    "    plt.figure(figsize=(7, 7))\n",
    "    plt.imshow(img, cmap=\"hot\")\n",
    "    plt.axis(\"off\")\n",
    "    plt.show()\n",
    "\n",
    "interact(show_image, obj=[\"bunny\", \"chinese_dragon\", \"homer\"], r=(0, 10, 0.1), phi=(0, 360), theta=(0, 180), f=(0, 200), res_x=(0, 2048), res_y=(0, 2048), sensor_x=(0, 100))"
   ]
  },
  {
   "cell_type": "code",
   "execution_count": 36,
   "metadata": {},
   "outputs": [
    {
     "data": {
      "application/vnd.jupyter.widget-view+json": {
       "model_id": "8870cc83f5e04b4ab45b21de0dd77f4d",
       "version_major": 2,
       "version_minor": 0
      },
      "text/plain": [
       "interactive(children=(IntSlider(value=90, description='theta', max=180), IntSlider(value=180, description='phi…"
      ]
     },
     "metadata": {},
     "output_type": "display_data"
    },
    {
     "data": {
      "text/plain": [
       "<function __main__.check_R(theta, phi)>"
      ]
     },
     "execution_count": 36,
     "metadata": {},
     "output_type": "execute_result"
    }
   ],
   "source": [
    "import numpy as np\n",
    "from numpy import sin, cos\n",
    "\n",
    "def sq(x):\n",
    "    return x*x\n",
    "\n",
    "deg = np.pi / 180\n",
    "theta = 90\n",
    "phi = 0\n",
    "\n",
    "def check_R(theta, phi):\n",
    "    R = np.array([\n",
    "            [-1 * sin(phi * deg), cos(phi * deg), 0],\n",
    "            [-1 * cos(theta * deg) * cos(phi * deg), -1 * cos(theta * deg) * sin(phi * deg), sin(theta * deg)],\n",
    "            [sin(theta * deg) * cos(phi * deg), sin(theta * deg) * sin(phi * deg), cos(theta * deg)]\n",
    "    ])\n",
    "\n",
    "    # R[1] = R[1] / np.linalg.norm(R[1])\n",
    "\n",
    "    print(np.dot(R[0], R[0]))\n",
    "    print(np.dot(R[1], R[1]))\n",
    "    print(np.dot(R[2], R[2]))\n",
    "\n",
    "    print(np.round(R @ R.T, 2))\n",
    "    \n",
    "    print(np.linalg.det(R @ R.T))\n",
    "\n",
    "interact(check_R, theta=(0, 180), phi=(0, 360))"
   ]
  }
 ],
 "metadata": {
  "kernelspec": {
   "display_name": "py311",
   "language": "python",
   "name": "python3"
  },
  "language_info": {
   "codemirror_mode": {
    "name": "ipython",
    "version": 3
   },
   "file_extension": ".py",
   "mimetype": "text/x-python",
   "name": "python",
   "nbconvert_exporter": "python",
   "pygments_lexer": "ipython3",
   "version": "3.11.5"
  }
 },
 "nbformat": 4,
 "nbformat_minor": 2
}
